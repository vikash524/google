{
  "nbformat": 4,
  "nbformat_minor": 0,
  "metadata": {
    "colab": {
      "provenance": []
    },
    "kernelspec": {
      "name": "python3",
      "display_name": "Python 3"
    },
    "language_info": {
      "name": "python"
    }
  },
  "cells": [
    {
      "cell_type": "code",
      "execution_count": 1,
      "metadata": {
        "colab": {
          "base_uri": "https://localhost:8080/"
        },
        "id": "BKK9nDJyCzQB",
        "outputId": "8ea9cd8e-a753-4a69-a1cb-072bbadcaed9"
      },
      "outputs": [
        {
          "output_type": "stream",
          "name": "stdout",
          "text": [
            "Q1. Pandas Series:\n",
            "0     4\n",
            "1     8\n",
            "2    15\n",
            "3    16\n",
            "4    23\n",
            "5    42\n",
            "dtype: int64\n",
            "\n",
            "Q2. Pandas Series from list:\n",
            "0     1\n",
            "1     2\n",
            "2     3\n",
            "3     4\n",
            "4     5\n",
            "5     6\n",
            "6     7\n",
            "7     8\n",
            "8     9\n",
            "9    10\n",
            "dtype: int64\n",
            "\n",
            "Q4. Pandas DataFrame:\n",
            "     Name  Age  Gender\n",
            "0   Alice   25  Female\n",
            "1     Bob   30    Male\n",
            "2  Claire   27  Female\n",
            "\n",
            "Q5. Example of using common functions:\n",
            "First few rows of the DataFrame:\n",
            "     Name  Age  Gender\n",
            "0   Alice   25  Female\n",
            "1     Bob   30    Male\n",
            "2  Claire   27  Female\n",
            "\n",
            "Q7. DataFrame created using multiple Series:\n",
            "     Name  Age  Gender\n",
            "0   Alice   25  Female\n",
            "1     Bob   30    Male\n",
            "2  Claire   27  Female\n"
          ]
        }
      ],
      "source": [
        "import pandas as pd\n",
        "\n",
        "# Q1. Create a Pandas Series that contains the following data: 4, 8, 15, 16, 23, and 42. Then, print the series.\n",
        "series_q1 = pd.Series([4, 8, 15, 16, 23, 42])\n",
        "print(\"Q1. Pandas Series:\")\n",
        "print(series_q1)\n",
        "print()\n",
        "\n",
        "# Q2. Create a variable of list type containing 10 elements in it, and apply pandas.Series function on the variable print it.\n",
        "list_q2 = [1, 2, 3, 4, 5, 6, 7, 8, 9, 10]\n",
        "series_q2 = pd.Series(list_q2)\n",
        "print(\"Q2. Pandas Series from list:\")\n",
        "print(series_q2)\n",
        "print()\n",
        "\n",
        "# Q4. What is ‘DataFrame’ in pandas and how is it different from pandas.series? Explain with an example.\n",
        "\"\"\"\n",
        "DataFrame is a two-dimensional labeled data structure in pandas capable of holding data of different types. It can be thought of as a table with rows and columns, where each column can be of a different data type.\n",
        "A DataFrame is different from a pandas Series in that a Series represents a one-dimensional array, while a DataFrame represents a two-dimensional array. Additionally, a DataFrame can contain multiple columns, each with its own label.\n",
        "Example:\n",
        "\"\"\"\n",
        "data = {'Name': ['Alice', 'Bob', 'Claire'],\n",
        "        'Age': [25, 30, 27],\n",
        "        'Gender': ['Female', 'Male', 'Female']}\n",
        "df = pd.DataFrame(data)\n",
        "print(\"Q4. Pandas DataFrame:\")\n",
        "print(df)\n",
        "print()\n",
        "\n",
        "# Q5. What are some common functions you can use to manipulate data in a Pandas DataFrame? Can you give an example of when you might use one of these functions?\n",
        "\"\"\"\n",
        "Some common functions to manipulate data in a Pandas DataFrame include:\n",
        "- .head(): View the first few rows of the DataFrame.\n",
        "- .tail(): View the last few rows of the DataFrame.\n",
        "- .info(): Get a concise summary of the DataFrame.\n",
        "- .describe(): Generate descriptive statistics of the DataFrame.\n",
        "Example:\n",
        "\"\"\"\n",
        "print(\"Q5. Example of using common functions:\")\n",
        "print(\"First few rows of the DataFrame:\")\n",
        "print(df.head())\n",
        "print()\n",
        "\n",
        "# Q6. Which of the following is mutable in nature Series, DataFrame, Panel?\n",
        "\"\"\"\n",
        "DataFrame is mutable in nature, meaning it can be modified after creation. Series and Panel are immutable.\n",
        "\"\"\"\n",
        "\n",
        "# Q7. Create a DataFrame using multiple Series. Explain with an example.\n",
        "\"\"\"\n",
        "You can create a DataFrame using multiple Series by passing the Series as a dictionary to the DataFrame constructor.\n",
        "Example:\n",
        "\"\"\"\n",
        "series_name = pd.Series(['Alice', 'Bob', 'Claire'])\n",
        "series_age = pd.Series([25, 30, 27])\n",
        "series_gender = pd.Series(['Female', 'Male', 'Female'])\n",
        "\n",
        "df_multiple_series = pd.DataFrame({'Name': series_name, 'Age': series_age, 'Gender': series_gender})\n",
        "print(\"Q7. DataFrame created using multiple Series:\")\n",
        "print(df_multiple_series)\n"
      ]
    },
    {
      "cell_type": "code",
      "source": [
        "# Q3. Create a Pandas DataFrame that contains the following data:\n",
        "\"\"\"\n",
        "Name\n",
        "Alice\n",
        "Bob\n",
        "Claire\n",
        "\n",
        "Age\n",
        "25\n",
        "30\n",
        "27\n",
        "\n",
        "Gender\n",
        "Female\n",
        "Male\n",
        "Female\n",
        "\"\"\"\n",
        "\n",
        "import pandas as pd\n",
        "\n",
        "data_q3 = {\n",
        "    'Name': ['Alice', 'Bob', 'Claire'],\n",
        "    'Age': [25, 30, 27],\n",
        "    'Gender': ['Female', 'Male', 'Female']\n",
        "}\n",
        "\n",
        "df_q3 = pd.DataFrame(data_q3)\n",
        "print(\"Q3. Pandas DataFrame:\")\n",
        "print(df_q3)\n"
      ],
      "metadata": {
        "colab": {
          "base_uri": "https://localhost:8080/"
        },
        "id": "jzDX9jRqC1PY",
        "outputId": "b36fe2d3-5447-41a4-e856-06de917ef2b2"
      },
      "execution_count": 2,
      "outputs": [
        {
          "output_type": "stream",
          "name": "stdout",
          "text": [
            "Q3. Pandas DataFrame:\n",
            "     Name  Age  Gender\n",
            "0   Alice   25  Female\n",
            "1     Bob   30    Male\n",
            "2  Claire   27  Female\n"
          ]
        }
      ]
    },
    {
      "cell_type": "code",
      "source": [],
      "metadata": {
        "id": "81OT7832DAjF"
      },
      "execution_count": null,
      "outputs": []
    }
  ]
}